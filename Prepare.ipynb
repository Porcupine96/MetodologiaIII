{
 "cells": [
  {
   "cell_type": "code",
   "execution_count": 1,
   "id": "3f23180d",
   "metadata": {
    "collapsed": true
   },
   "outputs": [
    {
     "name": "stderr",
     "output_type": "stream",
     "text": [
      "\n",
      "Attaching package: ‘dplyr’\n",
      "\n",
      "\n",
      "The following objects are masked from ‘package:stats’:\n",
      "\n",
      "    filter, lag\n",
      "\n",
      "\n",
      "The following objects are masked from ‘package:base’:\n",
      "\n",
      "    intersect, setdiff, setequal, union\n",
      "\n",
      "\n"
     ]
    }
   ],
   "source": [
    "library(dplyr)\n",
    "library(readxl)"
   ]
  },
  {
   "cell_type": "code",
   "execution_count": 129,
   "id": "6a6bc84f",
   "metadata": {},
   "outputs": [],
   "source": [
    "path <- \"./data/results.xlsx\"\n",
    "df <- read_excel(path)"
   ]
  },
  {
   "cell_type": "markdown",
   "id": "0b9cdd87",
   "metadata": {},
   "source": [
    "# Preprocessing"
   ]
  },
  {
   "cell_type": "markdown",
   "id": "857ae95e",
   "metadata": {},
   "source": [
    "Remove the first row as it contained invalid response 🧌"
   ]
  },
  {
   "cell_type": "code",
   "execution_count": 130,
   "id": "b7241de5",
   "metadata": {},
   "outputs": [],
   "source": [
    "df <- df[df$ID != 1,]"
   ]
  },
  {
   "cell_type": "markdown",
   "id": "a29f5da3",
   "metadata": {},
   "source": [
    "Regenerate row index "
   ]
  },
  {
   "cell_type": "code",
   "execution_count": 131,
   "id": "3598c582",
   "metadata": {},
   "outputs": [],
   "source": [
    "df$ID <- 1:dim(df)[1]"
   ]
  },
  {
   "cell_type": "markdown",
   "id": "bbeb8932",
   "metadata": {},
   "source": [
    "Let's look at the columns"
   ]
  },
  {
   "cell_type": "code",
   "execution_count": 132,
   "id": "791c300c",
   "metadata": {},
   "outputs": [
    {
     "name": "stdout",
     "output_type": "stream",
     "text": [
      "[1] \"ID\"\n",
      "[1] \"Start time\"\n",
      "[1] \"Completion time\"\n",
      "[1] \"Email\"\n",
      "[1] \"Name\"\n",
      "[1] \"Wiek (w latach)\"\n",
      "[1] \"Płeć\"\n",
      "[1] \"Miejsce zamieszkania\"\n",
      "[1] \"Wykształcenie\"\n",
      "[1] \"Ile godzin dziennie spędzasz na Facebooku? (z wyłączeniem Messengera)\"\n",
      "[1] \"Ile godzin dziennie spędzasz na Instagramie?\"\n",
      "[1] \"Ile godzin dziennie spędzasz na TikToku?\"\n",
      "[1] \"Czy w ostatnim miesiącu opublikował*ś post na którymś z powyższych social mediów?\"\n",
      "[1] \"Uważam, że jestem osobą wartościową przynajmniej w takim samym stopniu, co inni.\"\n",
      "[1] \"Uważam, że posiadam wiele pozytywnych cech.\"\n",
      "[1] \"Ogólnie biorąc jestem skłonn* sądzić, że nie wiedzie mi się.\"\n",
      "[1] \"Potrafię robić różne rzeczy tak dobrze, jak większość innych ludzi.\"\n",
      "[1] \"Uważam, że nie mam wielu powodów, aby być z siebie dumn*.\"\n",
      "[1] \"Lubię siebie.\"\n",
      "[1] \"Ogólnie rzecz biorąc, jestem z siebie zadowolon*.\"\n",
      "[1] \"Chciał*bym mieć więcej szacunku dla samego siebie.\"\n",
      "[1] \"Czasami czuję się bezużyteczn*.\"\n",
      "[1] \"Niekiedy uważam, że jestem do niczego.\"\n"
     ]
    }
   ],
   "source": [
    "for (n in colnames(df)) {\n",
    "    print(n)\n",
    "}"
   ]
  },
  {
   "cell_type": "markdown",
   "id": "3e80d571",
   "metadata": {},
   "source": [
    "Rename the columns to something similer"
   ]
  },
  {
   "cell_type": "code",
   "execution_count": 133,
   "id": "f410e4c8",
   "metadata": {},
   "outputs": [],
   "source": [
    "df <- df %>%\n",
    "  rename(\n",
    "    age = \"Wiek (w latach)\",\n",
    "    sex = \"Płeć\",\n",
    "    education = \"Wykształcenie\",\n",
    "    city = \"Miejsce zamieszkania\",\n",
    "    facebookTime = \"Ile godzin dziennie spędzasz na Facebooku? (z wyłączeniem Messengera)\",\n",
    "    instagramTime = \"Ile godzin dziennie spędzasz na Instagramie?\",\n",
    "    tiktokTime = \"Ile godzin dziennie spędzasz na TikToku?\",\n",
    "    publisher = \"Czy w ostatnim miesiącu opublikował*ś post na którymś z powyższych social mediów?\",\n",
    "    ses1 = \"Uważam, że jestem osobą wartościową przynajmniej w takim samym stopniu, co inni.\",\n",
    "    ses2 = \"Uważam, że posiadam wiele pozytywnych cech.\",\n",
    "    ses3 = \"Ogólnie biorąc jestem skłonn* sądzić, że nie wiedzie mi się.\",\n",
    "    ses4 = \"Potrafię robić różne rzeczy tak dobrze, jak większość innych ludzi.\",\n",
    "    ses5 = \"Uważam, że nie mam wielu powodów, aby być z siebie dumn*.\",\n",
    "    ses6 = \"Lubię siebie.\",\n",
    "    ses7 = \"Ogólnie rzecz biorąc, jestem z siebie zadowolon*.\",\n",
    "    ses8 = \"Chciał*bym mieć więcej szacunku dla samego siebie.\",\n",
    "    ses9 = \"Czasami czuję się bezużyteczn*.\",\n",
    "    ses10 = \"Niekiedy uważam, że jestem do niczego.\"\n",
    "  ) %>% \n",
    "  select(\n",
    "    -c(\"Start time\",\n",
    "       \"Completion time\",\n",
    "       \"Name\", \n",
    "       \"Email\"))"
   ]
  },
  {
   "cell_type": "markdown",
   "id": "51d98974",
   "metadata": {},
   "source": [
    "## Calculate SES score"
   ]
  },
  {
   "cell_type": "code",
   "execution_count": 134,
   "id": "12d87f46",
   "metadata": {},
   "outputs": [],
   "source": [
    "toScore <- function(text, reverse = FALSE) {\n",
    "    rawScore <- case_when(\n",
    "        text == \"zdecydowanie nie zgadzam się\" ~ 1,\n",
    "        text == \"nie zgadzam się\" ~ 2,\n",
    "        text == \"zgadzam się\" ~ 3,\n",
    "        text == \"zdecydowanie zgadzam się\" ~ 4,\n",
    "        TRUE ~ NA\n",
    "    )\n",
    "\n",
    "    if (reverse) 5 - rawScore\n",
    "    else rawScore\n",
    "}"
   ]
  },
  {
   "cell_type": "code",
   "execution_count": 135,
   "id": "c28b30e5",
   "metadata": {},
   "outputs": [],
   "source": [
    "df <- df %>% \n",
    " mutate(\n",
    "   ses = toScore(ses1)\n",
    "     + toScore(ses2)\n",
    "     + toScore(ses3, TRUE)\n",
    "     + toScore(ses4)\n",
    "     + toScore(ses5, TRUE)\n",
    "     + toScore(ses6)\n",
    "     + toScore(ses7)\n",
    "     + toScore(ses8, TRUE)\n",
    "     + toScore(ses9, TRUE)\n",
    "     + toScore(ses10, TRUE)\n",
    " ) "
   ]
  },
  {
   "cell_type": "markdown",
   "id": "9dc52a05",
   "metadata": {},
   "source": [
    "We don't need the raw data anymore"
   ]
  },
  {
   "cell_type": "code",
   "execution_count": 136,
   "id": "c6c075ec",
   "metadata": {},
   "outputs": [],
   "source": [
    "df <- df %>% select(-ses1, -ses2, -ses3, -ses4, -ses5, -ses6, -ses7, -ses8, -ses9, -ses10)"
   ]
  },
  {
   "cell_type": "markdown",
   "id": "26ebc0a5",
   "metadata": {},
   "source": [
    "## Convert the SM time to minutes"
   ]
  },
  {
   "cell_type": "code",
   "execution_count": 137,
   "id": "f5c140bb",
   "metadata": {},
   "outputs": [],
   "source": [
    "df <- df %>%  \n",
    "  mutate(\n",
    "      facebookTime = floor(as.numeric(facebookTime) * 60),\n",
    "      instagramTime = floor(as.numeric(instagramTime) * 60),\n",
    "      tiktokTime = floor(as.numeric(tiktokTime) * 60),\n",
    "      socialMediaTime = facebookTime + instagramTime + tiktokTime\n",
    "  ) %>%\n",
    "  select(ID, age, sex, facebookTime, instagramTime, tiktokTime, socialMediaTime, publisher, ses)"
   ]
  },
  {
   "cell_type": "markdown",
   "id": "7f303734",
   "metadata": {},
   "source": [
    "## Divide participants in groups by SM percentiles"
   ]
  },
  {
   "cell_type": "markdown",
   "id": "f76c614b",
   "metadata": {},
   "source": [
    "First, we'll divide participants into 3 groups based on their total time spent on social media:\n",
    "1. Participants below the 33 percentile - low SM usage\n",
    "2. Participants between 34and 66 percentile - moderate SM usage\n",
    "3. Participants over 67 per percentile - high SM usage"
   ]
  },
  {
   "cell_type": "code",
   "execution_count": 138,
   "id": "366cf8b6",
   "metadata": {},
   "outputs": [
    {
     "data": {
      "text/html": [
       "<style>\n",
       ".dl-inline {width: auto; margin:0; padding: 0}\n",
       ".dl-inline>dt, .dl-inline>dd {float: none; width: auto; display: inline-block}\n",
       ".dl-inline>dt::after {content: \":\\0020\"; padding-right: .5ex}\n",
       ".dl-inline>dt:not(:first-of-type) {padding-left: .5ex}\n",
       "</style><dl class=dl-inline><dt>33%</dt><dd>120</dd><dt>66%</dt><dd>180</dd></dl>\n"
      ],
      "text/latex": [
       "\\begin{description*}\n",
       "\\item[33\\textbackslash{}\\%] 120\n",
       "\\item[66\\textbackslash{}\\%] 180\n",
       "\\end{description*}\n"
      ],
      "text/markdown": [
       "33%\n",
       ":   12066%\n",
       ":   180\n",
       "\n"
      ],
      "text/plain": [
       "33% 66% \n",
       "120 180 "
      ]
     },
     "metadata": {},
     "output_type": "display_data"
    }
   ],
   "source": [
    "quantile(df$socialMediaTime, c(0.33, 0.66))"
   ]
  },
  {
   "cell_type": "code",
   "execution_count": 149,
   "id": "327dac0e",
   "metadata": {},
   "outputs": [],
   "source": [
    "twoGroups <- function (quantiles) {\n",
    "    function (time) {\n",
    "        if (time <= quantiles[1]) \"low\"\n",
    "        else \"high\"\n",
    "    }\n",
    "}\n",
    "\n",
    "threeGroups <- function (quantiles) {\n",
    "    function (time) {\n",
    "        if (time <= quantiles[1]) \"low\"\n",
    "        else if (time <= quantiles[2]) \"moderate\"\n",
    "        else \"high\"\n",
    "    }\n",
    "}"
   ]
  },
  {
   "cell_type": "code",
   "execution_count": 150,
   "id": "a799f8db",
   "metadata": {},
   "outputs": [],
   "source": [
    "q = c(0.33, 0.66)\n",
    "\n",
    "df <- df %>% \n",
    "   mutate(\n",
    "       facebookUsage = as.factor(sapply(facebookTime, threeGroups(quantile(df$facebookTime, q)))), \n",
    "       instagramUsage = as.factor(sapply(instagramTime, threeGroups(quantile(df$instagramTime, q)))), \n",
    "       tiktokUsage = as.factor(sapply(tiktokTime, threeGroups(quantile(df$tiktokTime, q)))),\n",
    "       socialMediaUsage = as.factor(sapply(socialMediaTime, threeGroups(quantile(df$socialMediaTime, q)))),\n",
    "       socialMediaUsageTwo = as.factor(sapply(socialMediaTime, twoGroups(quantile(df$socialMediaTime, 0.5)))),\n",
    "   )"
   ]
  },
  {
   "cell_type": "markdown",
   "id": "f2309df7",
   "metadata": {},
   "source": [
    "## Final DataFrame"
   ]
  },
  {
   "cell_type": "code",
   "execution_count": 151,
   "id": "edc76ddd",
   "metadata": {
    "scrolled": true
   },
   "outputs": [
    {
     "name": "stdout",
     "output_type": "stream",
     "text": [
      "Rows: 57\n",
      "Columns: 14\n",
      "$ ID                  \u001b[3m\u001b[90m<int>\u001b[39m\u001b[23m 1, 2, 3, 4, 5, 6, 7, 8, 9, 10, 11, 12, 13, 14, 15,…\n",
      "$ age                 \u001b[3m\u001b[90m<chr>\u001b[39m\u001b[23m \"22\", \"21\", \"22\", \"21\", \"23\", \"22\", \"21\", \"19\", \"2…\n",
      "$ sex                 \u001b[3m\u001b[90m<chr>\u001b[39m\u001b[23m \"Mężczyzna\", \"Mężczyzna\", \"Kobieta\", \"Kobieta\", \"K…\n",
      "$ facebookTime        \u001b[3m\u001b[90m<dbl>\u001b[39m\u001b[23m 0, 60, 60, 0, 0, 0, 180, 60, 0, 6, 60, 60, 60, 21,…\n",
      "$ instagramTime       \u001b[3m\u001b[90m<dbl>\u001b[39m\u001b[23m 120, 120, 120, 60, 180, 60, 0, 60, 60, 60, 60, 120…\n",
      "$ tiktokTime          \u001b[3m\u001b[90m<dbl>\u001b[39m\u001b[23m 0, 0, 0, 0, 0, 120, 0, 240, 0, 60, 0, 0, 0, 70, 60…\n",
      "$ socialMediaTime     \u001b[3m\u001b[90m<dbl>\u001b[39m\u001b[23m 120, 180, 180, 60, 180, 180, 180, 360, 60, 126, 12…\n",
      "$ publisher           \u001b[3m\u001b[90m<chr>\u001b[39m\u001b[23m \"Nie\", \"Tak\", \"Nie\", \"Nie\", \"Nie\", \"Nie\", \"Nie\", \"…\n",
      "$ ses                 \u001b[3m\u001b[90m<dbl>\u001b[39m\u001b[23m 31, 33, 33, 31, 24, 22, 29, 24, 18, 27, 20, 32, 29…\n",
      "$ facebookUsage       \u001b[3m\u001b[90m<fct>\u001b[39m\u001b[23m low, moderate, moderate, low, low, low, high, mode…\n",
      "$ instagramUsage      \u001b[3m\u001b[90m<fct>\u001b[39m\u001b[23m high, high, high, moderate, high, moderate, low, m…\n",
      "$ tiktokUsage         \u001b[3m\u001b[90m<fct>\u001b[39m\u001b[23m low, low, low, low, low, high, low, high, low, hig…\n",
      "$ socialMediaUsage    \u001b[3m\u001b[90m<fct>\u001b[39m\u001b[23m low, moderate, moderate, low, moderate, moderate, …\n",
      "$ socialMediaUsageTwo \u001b[3m\u001b[90m<fct>\u001b[39m\u001b[23m low, high, high, low, high, high, high, high, low,…\n"
     ]
    }
   ],
   "source": [
    "glimpse(df)"
   ]
  },
  {
   "cell_type": "markdown",
   "id": "25a7c9b2",
   "metadata": {},
   "source": [
    "### Liczności poszczególnych grup"
   ]
  },
  {
   "cell_type": "code",
   "execution_count": 156,
   "id": "b9df9b9f",
   "metadata": {
    "scrolled": true
   },
   "outputs": [
    {
     "data": {
      "text/plain": [
       "\n",
       "    high      low moderate \n",
       "      16       30       11 "
      ]
     },
     "metadata": {},
     "output_type": "display_data"
    }
   ],
   "source": [
    "table(df$socialMediaUsage)"
   ]
  },
  {
   "cell_type": "code",
   "execution_count": 157,
   "id": "1012c329",
   "metadata": {},
   "outputs": [
    {
     "data": {
      "text/plain": [
       "                   publisher\n",
       "socialMediaUsageTwo Nie Tak\n",
       "               high  15  12\n",
       "               low   27   3"
      ]
     },
     "metadata": {},
     "output_type": "display_data"
    }
   ],
   "source": [
    "table(df[,c(\"socialMediaUsageTwo\", \"publisher\")])"
   ]
  },
  {
   "cell_type": "code",
   "execution_count": 158,
   "id": "51c7b9e7",
   "metadata": {},
   "outputs": [],
   "source": [
    "write.csv(df, \"./output/data.csv\", row.names = FALSE)"
   ]
  },
  {
   "cell_type": "code",
   "execution_count": 159,
   "id": "532b03f9",
   "metadata": {},
   "outputs": [
    {
     "data": {
      "text/html": [
       "TRUE"
      ],
      "text/latex": [
       "TRUE"
      ],
      "text/markdown": [
       "TRUE"
      ],
      "text/plain": [
       "[1] TRUE"
      ]
     },
     "metadata": {},
     "output_type": "display_data"
    }
   ],
   "source": [
    "file.copy(\"./output/data.csv\", \"~/shared-vm/data.csv\", overwrite = TRUE)"
   ]
  },
  {
   "cell_type": "code",
   "execution_count": null,
   "id": "4cb4d4d9",
   "metadata": {},
   "outputs": [],
   "source": []
  },
  {
   "cell_type": "code",
   "execution_count": null,
   "id": "c1de9170",
   "metadata": {},
   "outputs": [],
   "source": []
  }
 ],
 "metadata": {
  "kernelspec": {
   "display_name": "R",
   "language": "R",
   "name": "ir"
  },
  "language_info": {
   "codemirror_mode": "r",
   "file_extension": ".r",
   "mimetype": "text/x-r-source",
   "name": "R",
   "pygments_lexer": "r",
   "version": "4.3.0"
  }
 },
 "nbformat": 4,
 "nbformat_minor": 5
}
